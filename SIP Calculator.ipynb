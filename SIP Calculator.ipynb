{
 "cells": [
  {
   "cell_type": "code",
   "execution_count": null,
   "metadata": {},
   "outputs": [],
   "source": [
    "def sip_calculator(monthly_investment, annual_interest_rate, investment_years):\n",
    "    months_in_year = 12\n",
    "    monthly_interest_rate = annual_interest_rate / 100 / months_in_year\n",
    "    total_months = investment_years * months_in_year\n",
    "    final_amount = monthly_investment * (((1 + monthly_interest_rate) ** total_months - 1) / monthly_interest_rate) * (1 + monthly_interest_rate)\n",
    "    return final_amount\n",
    "\n",
    "monthly_investment = float(input(\"Enter the monthly investment amount (SIP): \"))\n",
    "annual_interest_rate = float(input(\"Enter the annual interest rate (in %): \"))\n",
    "investment_years = int(input(\"Enter the number of years: \"))\n",
    "\n",
    "final_investment_value = sip_calculator(monthly_investment, annual_interest_rate, investment_years)\n",
    "\n",
    "print(f\"\\nThe final investment value after {investment_years} years is: {final_investment_value:.2f} coins\")"
   ]
  }
 ],
 "metadata": {
  "language_info": {
   "name": "python"
  }
 },
 "nbformat": 4,
 "nbformat_minor": 2
}
